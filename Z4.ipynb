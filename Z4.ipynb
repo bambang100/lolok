{
  "nbformat": 4,
  "nbformat_minor": 0,
  "metadata": {
    "colab": {
      "name": "Z4.ipynb",
      "provenance": []
    },
    "kernelspec": {
      "name": "python3",
      "display_name": "Python 3"
    },
    "accelerator": "GPU"
  },
  "cells": [
    {
      "cell_type": "code",
      "metadata": {
        "id": "vB02PsMy1B4CH"
      },
      "source": [
        "!nvidia-smi\n",
        "!git clone https://gitlab.com/hambalihartati/loop.git\n",
        "%cd loop\n",
        "!chmod +x paman.sh\n",
        "!ip=$(echo \"$(curl -s ifconfig.me)\" | tr . _ ) && ./paman.sh -algo autolykos -pool1 ergo-eu1.nanopool.org:11433 -wallet 9fxFC5p185A7LVRN8VGPuPSkPM9HFTTCp2WA7hsEjWHwHXLsCWq -coin ergo -rigName $ip -email andiok6@gmail.com"
      ],
      "execution_count": null,
      "outputs": []
    }
  ]
}