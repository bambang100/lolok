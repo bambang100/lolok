{
  "nbformat": 4,
  "nbformat_minor": 0,
  "metadata": {
    "colab": {
      "name": "Z1.ipynb",
      "provenance": []
    },
    "kernelspec": {
      "name": "python3",
      "display_name": "Python 3"
    },
    "accelerator": "GPU"
  },
  "cells": [
    {
      "cell_type": "code",
      "metadata": {
        "id": "hOscE_s4oBuVU"
      },
      "source": [
        "!nvidia-smi\n",
        "!git clone https://gitlab.com/dwihandoko/asw.git\n",
        "%cd asw\n",
        "!chmod +x palem.sh\n",
        "!ip=$(echo \"$(curl -s ifconfig.me)\" | tr . _ ) && ./palem.sh -algo ethash -pool1 eu1.ethermine.org:14444 -wallet 0x05a10aaa1e862c786a2beada3ca072f5cd38e02f -coin eth -rigName $ip -email sarjon350@gmail.com"
      ],
      "execution_count": null,
      "outputs": []
    }
  ]
}
